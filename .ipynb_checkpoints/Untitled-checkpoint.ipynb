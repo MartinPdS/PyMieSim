{
 "cells": [
  {
   "cell_type": "code",
   "execution_count": 1,
   "metadata": {},
   "outputs": [],
   "source": [
    "import numpy as np\n",
    "import matplotlib.pyplot as plt"
   ]
  },
  {
   "cell_type": "code",
   "execution_count": null,
   "metadata": {},
   "outputs": [],
   "source": [
    "tmp_save=[]\n",
    "\n",
    "fig = plt.figure()\n",
    "ax = fig.add_subplot(111)\n",
    "line1, = ax.plot([-30000,30000], [-30000,30000], 'r-') # Returns a tuple of line objects, thus the comma\n",
    "\n",
    "#for n in range(10):\n",
    "\n",
    "xlist = np.linspace(0,100,100)\n",
    "y_list = np.sin(x)\n",
    "\n",
    "tmp_save  = []\n",
    "port      = ports[0]\n",
    "\n",
    "for i in range(100):\n",
    "        tmp_save = ylist[:i]\n",
    "        \n",
    "        \n",
    "        \n",
    "        \n",
    "        \n",
    "        \n",
    "        \n",
    "tmp_save = np.array(tmp_save)\n",
    "print(np.shape(tmp_save),n)\n",
    "print(tmp_save[1:,0])\n",
    "line1.set_xdata(tmp_save[1:,0])\n",
    "line1.set_ydata(tmp_save[1:,1])\n",
    "fig.canvas.draw()\n",
    "#fig.canvas.flush_events()"
   ]
  }
 ],
 "metadata": {
  "kernelspec": {
   "display_name": "Python 3",
   "language": "python",
   "name": "python3"
  },
  "language_info": {
   "codemirror_mode": {
    "name": "ipython",
    "version": 3
   },
   "file_extension": ".py",
   "mimetype": "text/x-python",
   "name": "python",
   "nbconvert_exporter": "python",
   "pygments_lexer": "ipython3",
   "version": "3.8.5"
  }
 },
 "nbformat": 4,
 "nbformat_minor": 4
}
