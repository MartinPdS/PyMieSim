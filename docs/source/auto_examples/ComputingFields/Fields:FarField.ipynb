{
  "cells": [
    {
      "cell_type": "code",
      "execution_count": null,
      "metadata": {
        "collapsed": false
      },
      "outputs": [],
      "source": [
        "%matplotlib inline"
      ]
    },
    {
      "cell_type": "markdown",
      "metadata": {},
      "source": [
        "\n# Far Field\n"
      ]
    },
    {
      "cell_type": "code",
      "execution_count": null,
      "metadata": {
        "collapsed": false
      },
      "outputs": [],
      "source": [
        "# sphinx_gallery_thumbnail_path = '../images/Fields:FarField.png'\n\ndef run(Plot, Save):\n    from PyMieSim.Scatterer import Sphere\n    from PyMieSim.Source   import PlaneWave\n\n\n    Source = PlaneWave(Wavelength   = 450e-9,\n                      Polarization = 0,\n                      E0           = 1)\n\n    Scat = Sphere(Diameter    = 300e-9,\n                 Source      = Source,\n                 Index       = 1.4)\n\n\n    Fields = Scat.FarField(Num=100)\n\n    if Plot:\n        Fields.Plot()\n\n    if Save:\n        from pathlib import Path\n        dir = f'docs/images/{Path(__file__).stem}'\n        Fields.SaveFig(Directory=dir)\n\n\nif __name__ == '__main__':\n    run(Plot=True, Save=False)"
      ]
    }
  ],
  "metadata": {
    "kernelspec": {
      "display_name": "Python 3",
      "language": "python",
      "name": "python3"
    },
    "language_info": {
      "codemirror_mode": {
        "name": "ipython",
        "version": 3
      },
      "file_extension": ".py",
      "mimetype": "text/x-python",
      "name": "python",
      "nbconvert_exporter": "python",
      "pygments_lexer": "ipython3",
      "version": "3.8.5"
    }
  },
  "nbformat": 4,
  "nbformat_minor": 0
}