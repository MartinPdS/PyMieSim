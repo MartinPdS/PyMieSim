{
  "cells": [
    {
      "cell_type": "code",
      "execution_count": null,
      "metadata": {
        "collapsed": false
      },
      "outputs": [],
      "source": [
        "%matplotlib inline"
      ]
    },
    {
      "cell_type": "markdown",
      "metadata": {},
      "source": [
        "\n# Optimization Opt 2 parameter\n"
      ]
    },
    {
      "cell_type": "code",
      "execution_count": null,
      "metadata": {
        "collapsed": false
      },
      "outputs": [],
      "source": [
        "def run(Plot, Save):\n    return\n    import numpy as np\n    from PyMieSim.Detector  import Photodiode, LPmode\n    from PyMieSim.Source    import PlaneWave\n    from PyMieSim.Optimizer import Optimize\n    from PyMieSim.Sets      import ExperimentalSet, ScattererSet\n\n    Source = PlaneWave(Wavelength   = 450e-9,\n                     Polarization = 0,\n                     E0           = 1e5)\n\n    Detector0 = Photodiode(NA               = 0.1,\n                        Sampling          = 300,\n                        GammaOffset       = 20,\n                        PhiOffset         = 0,\n                        CouplingMode      = 'Centered')\n\n    Detector1 = Photodiode(NA                = 0.1,\n                         Sampling          = 300,\n                         GammaOffset       = 30,\n                         PhiOffset         = 0,\n                         CouplingMode      = 'Centered')\n\n\n    ScatSet = ScattererSet(DiameterList  = np.linspace(100e-9, 1500e-9, 300),\n                         IndexList        = np.linspace(1.5, 1.8, 1).round(1),\n                         Source        = Source)\n\n    Set = ExperimentalSet(ScattererSet = ScatSet, Detectors = (Detector0))\n\n\n    Opt    = Optimize(ExperimentalSet = Set,\n                    Metric          = 'Monotonic',\n                    Parameter       = ['NA','PhiOffset'],\n                    MinVal          = [1e-1, None],\n                    MaxVal          = [1, None],\n                    WhichDetector   = 0,\n                    X0              = [0.1,30],\n                    MaxIter         = 350,\n                    Tol             = 1e-4,\n                    FirstStride     = 30)\n\n    print(Opt.Result)\n\n    df = Set.DataFrame\n    if Plot:\n        df.Plot('Coupling') # can be \"Couplimg\"  or  \"STD\"\n\n\nif __name__ == '__main__':\n    run(Plot=True, Save=False)"
      ]
    }
  ],
  "metadata": {
    "kernelspec": {
      "display_name": "Python 3",
      "language": "python",
      "name": "python3"
    },
    "language_info": {
      "codemirror_mode": {
        "name": "ipython",
        "version": 3
      },
      "file_extension": ".py",
      "mimetype": "text/x-python",
      "name": "python",
      "nbconvert_exporter": "python",
      "pygments_lexer": "ipython3",
      "version": "3.8.5"
    }
  },
  "nbformat": 4,
  "nbformat_minor": 0
}