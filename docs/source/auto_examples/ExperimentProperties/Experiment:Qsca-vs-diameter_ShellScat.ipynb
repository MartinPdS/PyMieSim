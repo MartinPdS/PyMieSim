{
  "cells": [
    {
      "cell_type": "code",
      "execution_count": null,
      "metadata": {
        "collapsed": false
      },
      "outputs": [],
      "source": [
        "%matplotlib inline"
      ]
    },
    {
      "cell_type": "markdown",
      "metadata": {},
      "source": [
        "\n# Qsca vs Diameter Shell Scat\n"
      ]
    },
    {
      "cell_type": "code",
      "execution_count": null,
      "metadata": {
        "collapsed": false
      },
      "outputs": [],
      "source": [
        "def run(Plot, Save):\n    import numpy as np\n    from PyMieSim            import Material\n    from PyMieSim.Scatterer  import ShellSphere\n    from PyMieSim.Source     import PlaneWave\n    from PyMieSim.Detector   import Photodiode\n    from PyMieSim.Experiment import ScatSet, SourceSet, Setup, DetectorSet\n\n    scatKwargs   = { 'CoreDiameter'     : np.geomspace(10e-09, 600e-9, 500),\n                     'ShellWidth'       : [200e-9, 400e-9],\n                     'CoreIndex'        : [1],\n                     'ShellIndex'       : [1.3],\n                     'nMedium'          : 1 }\n\n    sourceKwargs = { 'Wavelength'   : [200e-9],\n                     'Polarization' : [0]}\n\n    scatSet   = ScatSet(Scatterer = ShellSphere,  kwargs = scatKwargs )\n\n    sourceSet = SourceSet(Source = PlaneWave, kwargs = sourceKwargs )\n\n    Experiment = Setup(ScattererSet = scatSet,\n                       SourceSet    = sourceSet)\n\n    Data = Experiment.Get(Input=['Qsca', 'Qback'])\n\n    print(Data)\n\n    if Plot:\n        Data.Plot(y=['Qsca'], x='Core diameter', Scale='lin')\n\n    if Save:\n        from pathlib import Path\n        dir = f'docs/images/{Path(__file__).stem}'\n        Data.SaveFig(Directory=dir, y=['Qsca'], x='Core diameter', Scale='lin')\n\nif __name__ == '__main__':\n    run(Plot=True, Save=False)\n\n\n\n\n#___________________________OUTPUT___________________________________\n#\n# PyMieArray\n# Variable: ['qsca', 'qback']\n# ==========================================================================================\n# Parameter\n# ------------------------------------------------------------------------------------------\n# wavelength                           | dimension =  0                        | size =  1\n# polarization                         | dimension =  1                        | size =  1\n# corediameter                         | dimension =  2                        | size = 500\n# shellwidth                           | dimension =  3                        | size =  2\n# coreindex                            | dimension =  4                        | size =  1\n# shellindex                           | dimension =  5                        | size =  1\n# nmedium                              | dimension =  6                        | size =  1\n# =========================================================================================="
      ]
    }
  ],
  "metadata": {
    "kernelspec": {
      "display_name": "Python 3",
      "language": "python",
      "name": "python3"
    },
    "language_info": {
      "codemirror_mode": {
        "name": "ipython",
        "version": 3
      },
      "file_extension": ".py",
      "mimetype": "text/x-python",
      "name": "python",
      "nbconvert_exporter": "python",
      "pygments_lexer": "ipython3",
      "version": "3.8.5"
    }
  },
  "nbformat": 4,
  "nbformat_minor": 0
}