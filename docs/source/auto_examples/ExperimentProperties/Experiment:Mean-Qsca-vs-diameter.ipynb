{
  "cells": [
    {
      "cell_type": "code",
      "execution_count": null,
      "metadata": {
        "collapsed": false
      },
      "outputs": [],
      "source": [
        "%matplotlib inline"
      ]
    },
    {
      "cell_type": "markdown",
      "metadata": {},
      "source": [
        "\n# Mean Qsca vs Diameter\n"
      ]
    },
    {
      "cell_type": "code",
      "execution_count": null,
      "metadata": {
        "collapsed": false
      },
      "outputs": [],
      "source": [
        "def run(Plot, Save):\n    import numpy as np\n    from PyMieSim            import Material\n    from PyMieSim.Scatterer  import Sphere\n    from PyMieSim.Source     import PlaneWave\n    from PyMieSim.Detector   import Photodiode\n    from PyMieSim.Experiment import ScatSet, SourceSet, Setup, DetectorSet\n\n    scatKwargs   = { 'Diameter' : np.geomspace(6.36e-09, 10000e-9, 500),\n                     'Material' : [Material('Silver')],\n                     'nMedium'  : [1] }\n\n    sourceKwargs = { 'Wavelength'   : [400e-9, 900e-9, 1200e-9, 1600e-9],\n                     'Polarization' : [0]}\n\n    scatSet   = ScatSet(Scatterer = Sphere,  kwargs = scatKwargs )\n\n    sourceSet = SourceSet(Source = PlaneWave, kwargs = sourceKwargs )\n\n    Experiment = Setup(ScattererSet = scatSet,\n                       SourceSet    = sourceSet)\n\n    Data = Experiment.Get(Input=['Qsca', 'Qabs'])\n\n    MeanData = Data.Mean('wavelength')\n\n    print(MeanData)\n\n    if Plot:\n        Data.Plot(y='Qabs', x='diameter', Scale='log')\n\n    if Save:\n        from pathlib import Path\n        dir = f'docs/images/{Path(__file__).stem}'\n        Data.SaveFig(Directory=dir, y='Qabs', x='diameter', Scale='log')\n\nif __name__ == '__main__':\n    run(Plot=True, Save=False)\n\n\n#___________________________OUTPUT___________________________________\n#\n# PyMieArray\n# Variable: ['qsca', 'qabs']\n# ========================================================================================================================\n# Parameter\n# ------------------------------------------------------------------------------------------------------------------------\n# Polarization [Degree]                                 | dimension = 0                        | size      = 1\n# Diameter [m]                                          | dimension = 1                        | size      = 500\n# Material refractive index [1]                         | dimension = 2                        | size      = 1\n# Medium refractive index [1]                           | dimension = 3                        | size      = 1\n# ========================================================================================================================"
      ]
    }
  ],
  "metadata": {
    "kernelspec": {
      "display_name": "Python 3",
      "language": "python",
      "name": "python3"
    },
    "language_info": {
      "codemirror_mode": {
        "name": "ipython",
        "version": 3
      },
      "file_extension": ".py",
      "mimetype": "text/x-python",
      "name": "python",
      "nbconvert_exporter": "python",
      "pygments_lexer": "ipython3",
      "version": "3.8.5"
    }
  },
  "nbformat": 4,
  "nbformat_minor": 0
}