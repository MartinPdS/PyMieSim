{
  "cells": [
    {
      "cell_type": "code",
      "execution_count": null,
      "metadata": {
        "collapsed": false
      },
      "outputs": [],
      "source": [
        "%matplotlib inline"
      ]
    },
    {
      "cell_type": "markdown",
      "metadata": {},
      "source": [
        "\n# Qsca vs Diameter\n"
      ]
    },
    {
      "cell_type": "code",
      "execution_count": null,
      "metadata": {
        "collapsed": false
      },
      "outputs": [],
      "source": [
        "# sphinx_gallery_thumbnail_path = '../images/Experiment:Qsca-vs-diameter.png'\n\ndef run(Plot, Save):\n    import numpy as np\n    from PyMieSim            import Material\n    from PyMieSim.Scatterer  import Sphere\n    from PyMieSim.Source     import PlaneWave\n    from PyMieSim.Detector   import Photodiode\n    from PyMieSim.Experiment import ScatSet, SourceSet, Setup, DetectorSet\n\n    scatKwargs   = { 'Diameter' : np.geomspace(6.36e-09, 10000e-9, 100),\n                     'Material' : [Material('Silver')],\n                     'nMedium'  : [1] }\n\n    sourceKwargs = { 'Wavelength'   : [400e-9],\n                     'Polarization' : [0]}\n\n    scatSet   = ScatSet(Scatterer = Sphere,  kwargs = scatKwargs )\n\n    sourceSet = SourceSet(Source = PlaneWave, kwargs = sourceKwargs )\n\n    Experiment = Setup(ScattererSet = scatSet,\n                       SourceSet    = sourceSet)\n\n    Data = Experiment.Get(Input=['Qsca', 'Qabs'])\n\n    print(Data)\n\n    if Plot:\n        Data.Plot(y=['Qsca', 'Qabs'], x='diameter', Scale='log')\n\n    if Save:\n        from pathlib import Path\n        dir = f'docs/images/{Path(__file__).stem}'\n        Data.SaveFig(Directory=dir, y=['Qsca', 'Qabs'], x='diameter', Scale='log')\n\n\nif __name__ == '__main__':\n    run(Plot=True, Save=False)"
      ]
    }
  ],
  "metadata": {
    "kernelspec": {
      "display_name": "Python 3",
      "language": "python",
      "name": "python3"
    },
    "language_info": {
      "codemirror_mode": {
        "name": "ipython",
        "version": 3
      },
      "file_extension": ".py",
      "mimetype": "text/x-python",
      "name": "python",
      "nbconvert_exporter": "python",
      "pygments_lexer": "ipython3",
      "version": "3.8.5"
    }
  },
  "nbformat": 4,
  "nbformat_minor": 0
}