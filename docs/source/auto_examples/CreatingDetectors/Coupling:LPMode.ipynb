{
  "cells": [
    {
      "cell_type": "code",
      "execution_count": null,
      "metadata": {
        "collapsed": false
      },
      "outputs": [],
      "source": [
        "%matplotlib inline"
      ]
    },
    {
      "cell_type": "markdown",
      "metadata": {},
      "source": [
        "\n# LP Mode\n"
      ]
    },
    {
      "cell_type": "code",
      "execution_count": null,
      "metadata": {
        "collapsed": false
      },
      "outputs": [],
      "source": [
        "# sphinx_gallery_thumbnail_path = '../images/Coupling:LPMode.png'\n\ndef run(Plot, Save):\n    from PyMieSim.Source   import PlaneWave\n    from PyMieSim.Detector import LPmode\n\n\n    Source = PlaneWave(Wavelength   = 450e-9,\n                      Polarization = 0,\n                      E0           = 0)\n\n    Detector = LPmode(Mode         = (1, 1),\n                     Rotation     = 0.,\n                     Sampling     = 201,\n                     NA           = 0.4,\n                     GammaOffset  = 0,\n                     PhiOffset    = 40,\n                     CouplingMode = 'Centered')\n\n    if Plot:\n        Detector.Plot()\n\n    if Save:\n        from pathlib import Path\n        dir = f'docs/images/{Path(__file__).stem}'\n        Detector.SaveFig(dir)\n\nif __name__ == '__main__':\n    run(Plot=True, Save=False)"
      ]
    }
  ],
  "metadata": {
    "kernelspec": {
      "display_name": "Python 3",
      "language": "python",
      "name": "python3"
    },
    "language_info": {
      "codemirror_mode": {
        "name": "ipython",
        "version": 3
      },
      "file_extension": ".py",
      "mimetype": "text/x-python",
      "name": "python",
      "nbconvert_exporter": "python",
      "pygments_lexer": "ipython3",
      "version": "3.8.5"
    }
  },
  "nbformat": 4,
  "nbformat_minor": 0
}