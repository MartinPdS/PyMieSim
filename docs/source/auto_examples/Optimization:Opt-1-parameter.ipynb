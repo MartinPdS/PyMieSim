{
  "cells": [
    {
      "cell_type": "code",
      "execution_count": null,
      "metadata": {
        "collapsed": false
      },
      "outputs": [],
      "source": [
        "%matplotlib inline"
      ]
    },
    {
      "cell_type": "markdown",
      "metadata": {},
      "source": [
        "\n# Optimization Opt 1 parameter\n"
      ]
    },
    {
      "cell_type": "code",
      "execution_count": null,
      "metadata": {
        "collapsed": false
      },
      "outputs": [],
      "source": [
        "def run(Plot, Save):\n    return\n    import numpy as np\n    from PyMieSim            import Material\n    from PyMieSim.Scatterer  import Sphere\n    from PyMieSim.Detector   import Photodiode, LPmode\n    from PyMieSim.Source     import PlaneWave\n    from PyMieSim.Experiment import ScatSet, SourceSet, Setup, DetectorSet\n\n    DiameterList   = np.linspace(100e-9, 1000e-9, 200)\n\n    Detector0 = Photodiode(NA                 = 0.1,\n                         Sampling          = 300,\n                         GammaOffset       = 20,\n                         PhiOffset         = 0,\n                         CouplingMode      = 'Centered')\n\n    scatKwargs   = { 'Diameter'    : np.linspace(400e-9, 2000e-9, 200),\n                     'Material'    : Material('BK7'),\n                     'nMedium'     : [1] }\n\n    sourceKwargs = { 'Wavelength'   : 1e-6,\n                     'Polarization' : [0]}\n\n    Detector0 = Photodiode(NA                = 2.0,\n                           Sampling          = 300,\n                           GammaOffset       = 0,\n                           PhiOffset         = 0,\n                           CouplingMode      = 'Centered')\n\n    detecSet   = DetectorSet([Detector0])\n\n    scatSet    = ScatSet(Scatterer = Sphere,  kwargs = scatKwargs )\n\n    sourceSet  = SourceSet(Source = PlaneWave, kwargs = sourceKwargs )\n\n    Experiment = Setup(ScattererSet = scatSet,\n                       SourceSet    = sourceSet,\n                       DetectorSet  = detecSet)\n\n    # Metric can be \"max\"\n    #               \"min\"\n    #               \"mean\"\n    #               \"std+RI\"\n    #               \"std+Diameter\"\n    #               \"std+Polarization\"\n    #               \"std+Wavelength\"\n    #               \"std+Detector\"\n    #               \"monotonic+RI\"\n    #               \"monotonic+Diameter\"\n    #               \"monotonic+Polarization\"\n    #               \"monotonic+Wavelength\"\n    #               \"monotonic+Detector\"\n\n    Opt = Experiment.Optimize(Setup           = Experiment,\n                     Metric          = 'mean',\n                     Parameter       = ['PhiOffset'],\n                     Optimum         = 'Maximum',\n                     MinVal          = [1e-5],\n                     MaxVal          = [180],\n                     WhichDetector   = 0,\n                     X0              = [0.6],\n                     MaxIter         = 350,\n                     Tol             = 1e-4,\n                     FirstStride     = 30)\n\n    print(Opt.Result)\n\n    df = Experiment.Coupling(AsType='dataframe')\n\n    if Plot:\n        df.Plot(y='Coupling', x='Diameter') # can be \"Couplimg\"  or  \"STD\"\n\n\nif __name__ == '__main__':\n    run(Plot=True, Save=False)"
      ]
    }
  ],
  "metadata": {
    "kernelspec": {
      "display_name": "Python 3",
      "language": "python",
      "name": "python3"
    },
    "language_info": {
      "codemirror_mode": {
        "name": "ipython",
        "version": 3
      },
      "file_extension": ".py",
      "mimetype": "text/x-python",
      "name": "python",
      "nbconvert_exporter": "python",
      "pygments_lexer": "ipython3",
      "version": "3.8.5"
    }
  },
  "nbformat": 4,
  "nbformat_minor": 0
}