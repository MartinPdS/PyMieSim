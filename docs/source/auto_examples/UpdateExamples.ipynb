{
  "cells": [
    {
      "cell_type": "code",
      "execution_count": null,
      "metadata": {
        "collapsed": false
      },
      "outputs": [],
      "source": [
        "%matplotlib inline"
      ]
    },
    {
      "cell_type": "markdown",
      "metadata": {},
      "source": [
        "\nUpdate Examples\n"
      ]
    },
    {
      "cell_type": "code",
      "execution_count": null,
      "metadata": {
        "collapsed": false
      },
      "outputs": [],
      "source": [
        "import importlib\nimport os\nimport examples\nimport logging\nimport matplotlib._pylab_helpers\nimport matplotlib.pyplot as plt\nfrom mayavi               import mlab\nfrom pyface.api           import GUI\n\nfrom PyMieSim.Directories import StaticPath\n\ndef saveMatplotlib():\n    \"\"\"Close the scene.\"\"\"\n    path = os.path.join(StaticPath, f\"{name}.png\")\n    plt.savefig(path)\n    plt.close()\n\ndef saveMlab():\n    \"\"\"Close the scene.\"\"\"\n    path = os.path.join(StaticPath, f\"{name}.png\")\n    mlab.savefig(path)\n    mlab.close()\n\n\ndef SaveCloseMatplotlib():\n    \"\"\"Close matplotlib scene.\"\"\"\n    path = os.path.join(StaticPath, f\"{name}.png\")\n\n    figures=[manager.canvas.figure\n         for manager in matplotlib._pylab_helpers.Gcf.get_all_fig_managers()]\n\n    if len(figures) >= 1:\n        figures[0].savefig(path)\n        plt.close('all')\n\n\ndef SaveCloseMlab():\n    \"\"\"Close mayavi scene.\"\"\"\n    path = os.path.join(StaticPath, f\"{name}.png\")\n\n    engine = mlab.get_engine()\n    scene = engine.current_scene\n    if scene is not None:\n        mlab.savefig(path)\n        mlab.close()\n\ndef SaveClose():\n    \"\"\"Close all scene.\"\"\"\n    SaveCloseMatplotlib()\n    SaveCloseMlab()\n\n\ndef runScript(script):\n    global name\n    name = script\n    try:\n        module = importlib.import_module(script)\n\n        #if module.matplotlib:\n        print(f'{name} : Matplotlib example plotting and saving...')\n        GUI.invoke_after(200, SaveClose)\n        module.run()\n\n        #if module.mlab:\n        print(f'{name} : Mlab example plotting and saving...')\n        GUI.invoke_after(200, SaveClose)\n        module.run()\n    except:\n        logging.warning(f'Script {name} did not conclude, continuing...')\n\n\nrunScript('LPMode')\n\nrunScript('Photodiode')\n\nrunScript('S1S2')\n\nrunScript('Stokes')\n\nrunScript('SPF')\n\nrunScript('FarField')\n\nrunScript('Mie-resonances')\n\nrunScript('Qscattering')\n\nrunScript('Coupling-vs-wavelength')\n\nrunScript('Qsca-vs-diameter')\n\nrunScript('Coupling-vs-diameter')\n\nrunScript('Experiment:Goniometer')\n\nrunScript('New-Material')\n\nrunScript('New-Material-Silver')"
      ]
    }
  ],
  "metadata": {
    "kernelspec": {
      "display_name": "Python 3",
      "language": "python",
      "name": "python3"
    },
    "language_info": {
      "codemirror_mode": {
        "name": "ipython",
        "version": 3
      },
      "file_extension": ".py",
      "mimetype": "text/x-python",
      "name": "python",
      "nbconvert_exporter": "python",
      "pygments_lexer": "ipython3",
      "version": "3.8.5"
    }
  },
  "nbformat": 4,
  "nbformat_minor": 0
}