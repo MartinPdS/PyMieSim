{
  "cells": [
    {
      "cell_type": "code",
      "execution_count": null,
      "metadata": {
        "collapsed": false
      },
      "outputs": [],
      "source": [
        "%matplotlib inline"
      ]
    },
    {
      "cell_type": "markdown",
      "metadata": {},
      "source": [
        "\n# Experiment Coupling vs Wavelength\n"
      ]
    },
    {
      "cell_type": "code",
      "execution_count": null,
      "metadata": {
        "collapsed": false
      },
      "outputs": [],
      "source": [
        "# sphinx_gallery_thumbnail_path = '../images/Experiment:Coupling-vs-wavelength.png'\n\ndef run(Plot, Save):\n    import numpy as np\n    from PyMieSim            import Material\n    from PyMieSim.Scatterer  import Sphere\n    from PyMieSim.Source     import PlaneWave\n    from PyMieSim.Detector   import Photodiode\n    from PyMieSim.Experiment import ScatSet, SourceSet, Setup, DetectorSet\n\n    scatKwargs   = { 'Diameter'     : 500e-9,\n                     'Material'     : Material('BK7'),\n                     'nMedium'      : [1] }\n\n    sourceKwargs = { 'Wavelength'   : np.linspace(400e-9, 1000e-9, 50),\n                     'Polarization' : [0]}\n\n    detecKwargs  = { 'NA'           : 0.2,\n                     'Sampling'     : 300,\n                     'GammaOffset'  : 0,\n                     'PhiOffset'    : [0, 30, 60],\n                     'CouplingMode' : 'Centered'}\n\n    detecSet   = DetectorSet(Detector = Photodiode, kwargs = detecKwargs)\n\n    scatSet    = ScatSet(Scatterer = Sphere,  kwargs = scatKwargs )\n\n    sourceSet  = SourceSet(Source = PlaneWave, kwargs = sourceKwargs )\n\n    Experiment = Setup(ScattererSet = scatSet,\n                       SourceSet    = sourceSet,\n                       DetectorSet  = detecSet)\n\n    Data = Experiment.Get('Coupling')\n\n    print(Data)\n\n    if Plot:\n        Data.Plot(y='Coupling', x='wavelength')\n\n    if Save:\n        from pathlib import Path\n        dir = f'docs/images/{Path(__file__).stem}'\n        Data.SaveFig(Directory=dir, y='Coupling', x='wavelength')\n\nif __name__ == '__main__':\n    run(Plot=True, Save=False)"
      ]
    }
  ],
  "metadata": {
    "kernelspec": {
      "display_name": "Python 3",
      "language": "python",
      "name": "python3"
    },
    "language_info": {
      "codemirror_mode": {
        "name": "ipython",
        "version": 3
      },
      "file_extension": ".py",
      "mimetype": "text/x-python",
      "name": "python",
      "nbconvert_exporter": "python",
      "pygments_lexer": "ipython3",
      "version": "3.8.5"
    }
  },
  "nbformat": 4,
  "nbformat_minor": 0
}