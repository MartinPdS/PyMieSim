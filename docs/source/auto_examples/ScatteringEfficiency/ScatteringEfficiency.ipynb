{
  "cells": [
    {
      "cell_type": "code",
      "execution_count": null,
      "metadata": {
        "collapsed": false
      },
      "outputs": [],
      "source": [
        "%matplotlib inline"
      ]
    },
    {
      "cell_type": "markdown",
      "metadata": {},
      "source": [
        "\n# Scattering efficiency of a sphere\n\nPyMieSim makes it easy to create a source and a scatterer. With these objects\ndefined, it is possible to use PyMieSim to find the scattering efficiency of the\nscatterer. This feature can be used to plot a graph of the scattering efficiency\nof a sphere as a function of the permittivity and the size parameter.\n"
      ]
    },
    {
      "cell_type": "code",
      "execution_count": null,
      "metadata": {
        "collapsed": false
      },
      "outputs": [],
      "source": [
        "# sphinx_gallery_thumbnail_path = '../images/ScatteringEfficiency.png'\n\ndef run(Plot, Save):\n    # import PyMieSim\n    from PyMieSim.Source import PlaneWave\n    from PyMieSim.Scatterer import Sphere\n\n    # import other librairies\n    import math\n    import numpy as np\n    import matplotlib.pyplot as plt\n    from mpl_toolkits.axes_grid1 import make_axes_locatable\n    import matplotlib\n\n    # set the source using PyMieSim\n    Source = PlaneWave(Wavelength   = 450e-9,\n                       Polarization = 0,\n                       E0           = 1)\n    # create an empty list that will contain the heatmap values\n    heatmap = []\n\n    # loop through all the values to generate the heatmap\n    # first, loop through the diameter values\n    for i in range(1,517):\n        x = []\n        # second, loop through the index values\n        for j in range(-100,501):\n            if j == 0:\n                continue\n\n            Scat = Sphere(Diameter    = i/3 * 1e-9,\n                          Source      = Source,\n                          Index       = (j/10)**0.5) # square root since permittivity\n                                                     # is the index squared\n            # Get the scattering efficiency using GetProperties()\n            prop = Scat.GetProperties()\n            Qsca = prop[1]\n            x.append(Qsca)\n        # append list (row) to the heatmap (list of lists)\n        heatmap.append(x)\n\n    # convert the heatmap to a numpy array\n    data = np.array(heatmap)\n\n    # create the plot\n    fig, ax = plt.subplots()\n    # show the data and adjust the color scale\n    im = ax.imshow(data, norm=matplotlib.colors.LogNorm(vmin = 0.1, vmax = 10), cmap='viridis')\n\n    # graph title\n    ax.set_title(\"Scattering efficiency of a sphere\")\n\n    # x axis settings\n    ax.set_xlabel(\"Permittivity\")\n    ax.set_xticks(np.linspace(0, len(heatmap[0]), 7))\n    ax.set_xticklabels([-10, 0, 10, 20, 30, 40, 50])\n\n    # y axis settings\n    ax.set_ylabel(\"Size parameter\")\n    ax.invert_yaxis()\n    ax.set_yticks(np.linspace(0, len(heatmap), 7))\n    ax.set_yticklabels([0, 0.2, 0.4, 0.6, 0.8, 1.0, 1.2])\n\n    # colorbar settings\n    divider = make_axes_locatable(ax)\n    cax = divider.append_axes(\"right\", size=\"5%\", pad=0.05)\n    plt.colorbar(im, cax=cax)\n\n    # display the plot in a tight layout\n    fig.tight_layout()\n    plt.show()\n\nif __name__ == '__main__':\n    run(Plot=True, Save=False)"
      ]
    }
  ],
  "metadata": {
    "kernelspec": {
      "display_name": "Python 3",
      "language": "python",
      "name": "python3"
    },
    "language_info": {
      "codemirror_mode": {
        "name": "ipython",
        "version": 3
      },
      "file_extension": ".py",
      "mimetype": "text/x-python",
      "name": "python",
      "nbconvert_exporter": "python",
      "pygments_lexer": "ipython3",
      "version": "3.8.5"
    }
  },
  "nbformat": 4,
  "nbformat_minor": 0
}