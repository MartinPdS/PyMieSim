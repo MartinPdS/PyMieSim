{
  "cells": [
    {
      "cell_type": "code",
      "execution_count": null,
      "metadata": {
        "collapsed": false
      },
      "outputs": [],
      "source": [
        "%matplotlib inline"
      ]
    },
    {
      "cell_type": "markdown",
      "metadata": {},
      "source": [
        "\n# Coupling Scatterer Photodiode\n"
      ]
    },
    {
      "cell_type": "code",
      "execution_count": null,
      "metadata": {
        "collapsed": false
      },
      "outputs": [],
      "source": [
        "def run(Plot, Save):\n    from PyMieSim.Source    import PlaneWave\n    from PyMieSim.Detector  import Photodiode\n    from PyMieSim.Scatterer import Sphere\n\n    Source = PlaneWave(Wavelength   = 450e-9,\n                      Polarization = 0,\n                      E0           = 1)\n\n    Detector = Photodiode(Sampling     = 201,\n                         NA           = 0.2,\n                         GammaOffset  = 0,\n                         PhiOffset    = 0,\n                         CouplingMode = 'Centered')\n\n    Scat = Sphere(Diameter    = 300e-9,\n                 Source      = Source,\n                 Index       = 1.4)\n\n    Coupling = Detector.Coupling(Scatterer = Scat)\n\n    print(Coupling) # 6.566085549292496e-18 Watt  (6.57e-03 fWatt)\n\n\nif __name__ == '__main__':\n    run(Plot=False, Save=False)"
      ]
    }
  ],
  "metadata": {
    "kernelspec": {
      "display_name": "Python 3",
      "language": "python",
      "name": "python3"
    },
    "language_info": {
      "codemirror_mode": {
        "name": "ipython",
        "version": 3
      },
      "file_extension": ".py",
      "mimetype": "text/x-python",
      "name": "python",
      "nbconvert_exporter": "python",
      "pygments_lexer": "ipython3",
      "version": "3.8.5"
    }
  },
  "nbformat": 4,
  "nbformat_minor": 0
}